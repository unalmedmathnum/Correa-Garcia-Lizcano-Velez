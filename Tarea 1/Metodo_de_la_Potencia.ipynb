{
 "cells": [
  {
   "cell_type": "code",
   "execution_count": null,
   "metadata": {
    "id": "Jp-lmFCHi8yH"
   },
   "outputs": [],
   "source": [
    "import numpy as np"
   ]
  },
  {
   "cell_type": "code",
   "execution_count": null,
   "metadata": {
    "id": "tSvVv_sxjCRm"
   },
   "outputs": [],
   "source": [
    "tol = 1e-6\n",
    "\n",
    "tests = [\n",
    "    np.array([[2, 1],\n",
    "              [3, 4]]),\n",
    "    np.array([[3, 2],\n",
    "              [3, 4]]),\n",
    "    np.array([[1,1,2],\n",
    "              [2,1,1],\n",
    "              [1,1,3]]),\n",
    "    np.array([[1,1,2],\n",
    "              [2,1,3],\n",
    "              [1,1,1]]),\n",
    "    np.array([[2,1,2],\n",
    "              [1,1,3],\n",
    "              [1,1,1]]),\n",
    "    np.array([[1,1,1,2],\n",
    "              [2,1,1,1],\n",
    "              [3,2,1,2],\n",
    "              [2,1,1,4]]),\n",
    "    np.array([[1,2,1,2],\n",
    "              [2,1,1,1],\n",
    "              [3,2,1,2],\n",
    "              [2,1,1,4]])\n",
    "]"
   ]
  },
  {
   "cell_type": "code",
   "execution_count": null,
   "metadata": {
    "id": "3OV1KCoMjS3B"
   },
   "outputs": [],
   "source": [
    "def metodoPotencia(A, x0, tol):\n",
    "    \"\"\"\n",
    "    Implementación del método de potencias para encontrar el valor propio dominante\n",
    "    y su vector propio correspondiente.\n",
    "    \n",
    "    Parámetros:\n",
    "    A   : numpy.ndarray\n",
    "          Matriz cuadrada para la cual se desea calcular el valor propio dominante.\n",
    "    x0  : numpy.ndarray\n",
    "          Vector inicial no nulo, utilizado como punto de partida.\n",
    "    tol : float\n",
    "          Tolerancia para determinar la convergencia.\n",
    "    \n",
    "    Retorna:\n",
    "    ck  : float\n",
    "          Aproximación del valor propio dominante.\n",
    "    xk  : numpy.ndarray\n",
    "          Vector propio correspondiente al valor propio dominante.\n",
    "    count : int\n",
    "          Número de iteraciones realizadas.\n",
    "    \"\"\"\n",
    "    \n",
    "    # Inicializamos el vector con el punto de partida y el contador de iteraciones\n",
    "    x = x0\n",
    "    count = 0\n",
    "    \n",
    "    while True:  # Bucle infinito que se rompe cuando se cumple el criterio de convergencia\n",
    "        count += 1  # Incrementamos el contador de iteraciones\n",
    "        \n",
    "        # Calculamos el producto matriz-vector: xk = A * x\n",
    "        xk = np.dot(A, x)\n",
    "        \n",
    "        # Estimamos el valor propio dominante como el valor máximo de xk\n",
    "        ck = max(xk)\n",
    "        \n",
    "        # Normalizamos el vector xk dividiendo cada componente por el valor propio estimado\n",
    "        xk = xk / ck\n",
    "        \n",
    "        # Criterio de convergencia: verificamos si la norma de la diferencia entre iteraciones es menor que la tolerancia\n",
    "        if np.linalg.norm(xk - x) < tol:\n",
    "            break  # Salimos del bucle si se cumple el criterio de convergencia\n",
    "        \n",
    "        # Actualizamos el vector x para la siguiente iteración\n",
    "        x = xk\n",
    "    \n",
    "    # Retornamos el valor propio dominante, el vector propio asociado, y el número de iteraciones\n",
    "    return ck, xk, count"
   ]
  },
  {
   "cell_type": "code",
   "execution_count": null,
   "metadata": {
    "colab": {
     "base_uri": "https://localhost:8080/"
    },
    "id": "4kbersLYj6xS",
    "outputId": "f6442158-fee2-4b7e-8b4a-3fb82827dc56"
   },
   "outputs": [
    {
     "name": "stdout",
     "output_type": "stream",
     "text": [
      "Matriz A\n",
      "\tValor propio: 5.0000034\n",
      "\tVector propio: [0.3333 1.    ]\n",
      "\tIteraciones: 9\n",
      "Matriz B\n",
      "\tValor propio: 6.000003\n",
      "\tVector propio: [0.6667 1.    ]\n",
      "\tIteraciones: 8\n",
      "Matriz C\n",
      "\tValor propio: 4.507019\n",
      "\tVector propio: [0.7781 0.7289 1.    ]\n",
      "\tIteraciones: 9\n",
      "Matriz D\n",
      "\tValor propio: 4.0489183\n",
      "\tVector propio: [0.692 1.    0.555]\n",
      "\tIteraciones: 9\n",
      "Matriz E\n",
      "\tValor propio: 4.1248858\n",
      "\tVector propio: [1.     0.9054 0.6097]\n",
      "\tIteraciones: 9\n",
      "Matriz F\n",
      "\tValor propio: 6.6345362\n",
      "\tVector propio: [0.607  0.5478 0.8726 1.    ]\n",
      "\tIteraciones: 10\n",
      "Matriz G\n",
      "\tValor propio: 6.8272634\n",
      "\tVector propio: [0.6883 0.5606 0.89   1.    ]\n",
      "\tIteraciones: 11\n"
     ]
    }
   ],
   "source": [
    "for index, test in enumerate(tests):\n",
    "    val, vec, it = metodoPotencia(test, np.ones(test.shape[0]), tol)\n",
    "\n",
    "    print(\"Matriz\", chr(65 + index))\n",
    "    print(\"\\tValor propio:\", np.around(val, decimals=7))\n",
    "    print(\"\\tVector propio:\", np.around(vec, decimals=4))\n",
    "    print(\"\\tIteraciones:\", it)"
   ]
  }
 ],
 "metadata": {
  "colab": {
   "provenance": []
  },
  "kernelspec": {
   "display_name": "Python 3",
   "name": "python3"
  },
  "language_info": {
   "name": "python"
  }
 },
 "nbformat": 4,
 "nbformat_minor": 0
}
