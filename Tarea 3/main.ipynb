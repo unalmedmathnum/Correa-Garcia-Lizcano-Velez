{
 "cells": [
  {
   "cell_type": "code",
   "execution_count": 13,
   "metadata": {},
   "outputs": [],
   "source": [
    "import numpy as np\n",
    "import matplotlib.pyplot as plt\n",
    "import scipy.integrate"
   ]
  },
  {
   "cell_type": "markdown",
   "metadata": {},
   "source": [
    "### Runge Kutta"
   ]
  },
  {
   "cell_type": "code",
   "execution_count": 47,
   "metadata": {},
   "outputs": [],
   "source": [
    "def rungeKuttaStep(f, dt, t0, w0):\n",
    "    \"\"\"\n",
    "    Given wi aproximation, apply a runge kutta step to calculate w(i+1)\n",
    "    \n",
    "    Args:\n",
    "        f (Callable) : the function f that where dy/dt = f(y, t)\n",
    "        dt (float) : size of the step\n",
    "        t0 (float) : current point at time, correspond to the time of wi\n",
    "        w0 (float) : current approximation at time, note that w0 = wi\n",
    "    \n",
    "    Return:\n",
    "        w(i+1) the next point in the integration\n",
    "    \"\"\"\n",
    "    f1 = f(t0, w0)\n",
    "    f2 = f(t0 + (dt / 2), w0 + (dt / 2) * f1)\n",
    "    f3 = f(t0 + (dt / 2), w0 + (dt / 2) * f2)\n",
    "    f4 = f(t0 + dt, w0 + dt * f3)\n",
    "\n",
    "    return w0 + (dt / 6) * (f1 + 2*f2 + 2*f3 + f4)\n",
    "\n",
    "\n",
    "def rungeKuttaSolver(system, initial_conditions, t0, t_max, dt):\n",
    "    \"\"\"\n",
    "    Solves a system of first-order ordinary differential equations (ODEs) using the 4th-order Runge-Kutta method.\n",
    "\n",
    "    Args:\n",
    "        system (Callable) : A function that represents the system of ODE, can be only one\n",
    "        initial_conditions (list[float]) : [u_1(t0), u_2(t0), ..., u_m(t0)]   \n",
    "        t0 (float) : initial value for the system\n",
    "        t_max (float) : max value for the system\n",
    "        dt (float) : size of each step in the integration\n",
    "\n",
    "    Return:\n",
    "        tuple:\n",
    "            np.array : the values at which we are aproximatting\n",
    "            np.array : 2D vector where the value at the i row, j col is the aproximation of u_i on t_j \n",
    "    \"\"\"\n",
    "\n",
    "    m = 1 if np.isscalar(initial_conditions) else len(initial_conditions)\n",
    "    points = int((t_max - t0) / dt) + 1\n",
    "    \n",
    "    t = np.zeros(points)\n",
    "    y = np.zeros((m, points))\n",
    "\n",
    "    y[:, 0] = initial_conditions\n",
    "    t[0] = t0\n",
    "\n",
    "    for i in range(points - 1):\n",
    "        t[i + 1] = t[i] + dt\n",
    "        y[:, i + 1] = rungeKuttaStep(system, dt, t[i], y[:, i])\n",
    "\n",
    "    return t, y\n",
    "    "
   ]
  },
  {
   "cell_type": "markdown",
   "metadata": {},
   "source": [
    "### Sloshing Model"
   ]
  },
  {
   "cell_type": "markdown",
   "metadata": {},
   "source": [
    "Parametros que me los saque de la nada"
   ]
  },
  {
   "cell_type": "code",
   "execution_count": 48,
   "metadata": {},
   "outputs": [],
   "source": [
    "W = 1\n",
    "OMEGA = 1\n",
    "LAMBDA = 1\n",
    "EPSILON = 0.1"
   ]
  },
  {
   "cell_type": "code",
   "execution_count": 49,
   "metadata": {},
   "outputs": [],
   "source": [
    "def verticalMotion(t, system):\n",
    "    \"\"\"\n",
    "    Ordinary Differential Equation from the paper labeled as (4)\n",
    "    As a system of first-grade ordinary differential equations\n",
    "    \n",
    "    Args:\n",
    "        t: parameter of the ordinary differential equation (4)\n",
    "        system: [u, du/dt]\n",
    "\n",
    "    Return\n",
    "        [du/dt, d2u/dt2]\n",
    "    \"\"\"\n",
    "    u, dudt = system\n",
    "    tao = W * t\n",
    "    d2udt2 = - (1 + EPSILON * LAMBDA * OMEGA**2 * np.cos(OMEGA * tao)) * (u - EPSILON**2 * u**3/6) \n",
    "\n",
    "    return np.array([dudt, d2udt2])"
   ]
  },
  {
   "cell_type": "code",
   "execution_count": 50,
   "metadata": {},
   "outputs": [],
   "source": [
    "initial_conditions = [0, 1]\n",
    "t0 = 2\n",
    "t_max = 10\n",
    "dt = 0.01\n",
    "t, u = rungeKuttaSolver(verticalMotion, initial_conditions, t0, t_max, dt) # my solution\n",
    "solution = scipy.integrate.solve_ivp(verticalMotion, (t0, t_max), initial_conditions, t_eval=t) # scipy solution\n",
    "scipy_u = solution.y"
   ]
  },
  {
   "cell_type": "markdown",
   "metadata": {},
   "source": [
    "plot results"
   ]
  },
  {
   "cell_type": "code",
   "execution_count": 51,
   "metadata": {},
   "outputs": [
    {
     "data": {
      "image/png": "[encoded data removed]",
      "text/plain": [
       "<Figure size 640x480 with 1 Axes>"
      ]
     },
     "metadata": {},
     "output_type": "display_data"
    }
   ],
   "source": [
    "plt.plot(t, u[0], label=\"runge kutta 4\") # u[0] refers to the 0 derivative of u, that means the u function itself\n",
    "plt.plot(t, scipy_u[0], label=\"scipy\")\n",
    "plt.legend()\n",
    "plt.show()"
   ]
  }
 ],
 "metadata": {
  "kernelspec": {
   "display_name": ".venv",
   "language": "python",
   "name": "python3"
  },
  "language_info": {
   "codemirror_mode": {
    "name": "ipython",
    "version": 3
   },
   "file_extension": ".py",
   "mimetype": "text/x-python",
   "name": "python",
   "nbconvert_exporter": "python",
   "pygments_lexer": "ipython3",
   "version": "3.13.0"
  }
 },
 "nbformat": 4,
 "nbformat_minor": 2
}
