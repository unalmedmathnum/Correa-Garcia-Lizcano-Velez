{
 "cells": [
  {
   "cell_type": "code",
   "execution_count": 1,
   "metadata": {},
   "outputs": [],
   "source": [
    "import time"
   ]
  },
  {
   "cell_type": "code",
   "execution_count": 2,
   "metadata": {},
   "outputs": [],
   "source": [
    "def leer_matriz():\n",
    "    n = int(input(\"Ingrese el tamaño de la matriz cuadrada: \"))\n",
    "    matriz = []\n",
    "\n",
    "    for i in range(n):\n",
    "        while True:\n",
    "            fila = list(map(float, input(f\"Ingrese la fila {i + 1} separada por espacios: \").split()))\n",
    "            if len(fila) == n:\n",
    "                matriz.append(fila)\n",
    "                break\n",
    "\n",
    "            else:\n",
    "                print(f\"La fila debe tener exactamente {n} elementos. Inténtelo de nuevo.\")\n",
    "    return matriz"
   ]
  },
  {
   "cell_type": "code",
   "execution_count": 3,
   "metadata": {},
   "outputs": [],
   "source": [
    "def multiplicar_matrices(A, B):\n",
    "    n = len(A)\n",
    "\n",
    "    resultado = [[0] * n for _ in range(n)]\n",
    "    for i in range(n):\n",
    "        for j in range(n):\n",
    "            for k in range(n):\n",
    "                resultado[i][j] += A[i][k] * B[k][j]\n",
    "    return resultado"
   ]
  },
  {
   "cell_type": "code",
   "execution_count": 4,
   "metadata": {},
   "outputs": [],
   "source": [
    "def traspuesta_matriz(Q):\n",
    "\n",
    "    return [[Q[j][i] for j in range(len(Q))] for i in range(len(Q))]"
   ]
  },
  {
   "cell_type": "code",
   "execution_count": 5,
   "metadata": {},
   "outputs": [],
   "source": [
    "def descomposicion_qr(A):\n",
    "    n = len(A)\n",
    "    Q = [[0] * n for _ in range(n)]\n",
    "    R = [[0] * n for _ in range(n)]\n",
    "    for i in range(n):\n",
    "        v = [A[j][i] for j in range(n)]\n",
    "\n",
    "        for j in range(i):\n",
    "            R[j][i] = sum(Q[k][j] * A[k][i] for k in range(n))\n",
    "            v = [v[k] - R[j][i] * Q[k][j] for k in range(n)]\n",
    "        R[i][i] = sum(x ** 2 for x in v) ** 0.5\n",
    "        for k in range(n):\n",
    "\n",
    "            Q[k][i] = v[k] / R[i][i]\n",
    "    return Q, R"
   ]
  },
  {
   "cell_type": "code",
   "execution_count": 6,
   "metadata": {},
   "outputs": [],
   "source": [
    "def algoritmo_qr(A, iteraciones=1000, tolerancia=1e-10):\n",
    "    n = len(A)\n",
    "    pasos = 0\n",
    "    for i in range(iteraciones):\n",
    "        Q, R = descomposicion_qr(A)\n",
    "        A_nueva = multiplicar_matrices(R, Q)\n",
    "        if max(abs(A_nueva[i][j] - A[i][j]) for i in range(n) for j in range(n)) < tolerancia:\n",
    "            pasos = i + 1\n",
    "\n",
    "            break\n",
    "        A = A_nueva\n",
    "    else:\n",
    "        pasos = iteraciones\n",
    "    return [A[i][i] for i in range(n)], pasos"
   ]
  },
  {
   "cell_type": "code",
   "execution_count": 8,
   "metadata": {},
   "outputs": [
    {
     "name": "stdout",
     "output_type": "stream",
     "text": [
      "Matriz A:\n",
      "  Valores propios: [5.0000000000157305, 0.9999999999842711]\n",
      "  Tiempo de ejecución: 0.000000 segundos\n",
      "  Iteraciones realizadas: 17\n",
      "\n",
      "Matriz B:\n",
      "  Valores propios: [6.0000000000147224, 0.9999999999852759]\n",
      "  Tiempo de ejecución: 0.000000 segundos\n",
      "  Iteraciones realizadas: 15\n",
      "\n",
      "Matriz C:\n",
      "  Valores propios: [4.9999999999737845, 1.0000000000262141]\n",
      "  Tiempo de ejecución: 0.000000 segundos\n",
      "  Iteraciones realizadas: 17\n",
      "\n",
      "Matriz D:\n",
      "  Valores propios: [4.507018644092975, 0.7781238377368095, -0.28514248182978574]\n",
      "  Tiempo de ejecución: 0.019905 segundos\n",
      "  Iteraciones realizadas: 1000\n",
      "\n",
      "Matriz E:\n",
      "  Valores propios: [4.048917339522305, -0.6920214716300961, -0.3568958678922093]\n",
      "  Tiempo de ejecución: 0.039468 segundos\n",
      "  Iteraciones realizadas: 1000\n",
      "\n",
      "Matriz F:\n",
      "  Valores propios: [4.124885419764575, -0.761557181831891, 0.6366717620673167]\n",
      "  Tiempo de ejecución: 0.018775 segundos\n",
      "  Iteraciones realizadas: 1000\n",
      "\n",
      "Matriz G:\n",
      "  Valores propios: [6.634534463633597, 1.5085633449433253, -0.7356415384387965, -0.40745627013812424]\n",
      "  Tiempo de ejecución: 0.034052 segundos\n",
      "  Iteraciones realizadas: 1000\n",
      "\n",
      "Matriz H:\n",
      "  Valores propios: [6.827262250104044, 1.7281159082896391, -1.087934923662562, -0.4674432347311205]\n",
      "  Tiempo de ejecución: 0.015788 segundos\n",
      "  Iteraciones realizadas: 1000\n",
      "\n"
     ]
    }
   ],
   "source": [
    "matrices = {\n",
    "        \"A\": [[2, 1], [3, 4]],\n",
    "        \"B\": [[3, 2], [3, 4]],\n",
    "        \"C\": [[2, 3], [1, 4]],\n",
    "        \"D\": [[1, 1, 2], [2, 1, 1], [1, 1, 3]],\n",
    "        \"E\": [[1, 1, 2], [2, 1, 3], [1, 1, 1]],\n",
    "        \"F\": [[2, 1, 2], [1, 1, 3], [1, 1, 1]],\n",
    "        \"G\": [[1, 1, 1, 2], [2, 1, 1, 1], [3, 2, 1, 2], [2, 1, 1, 4]],\n",
    "        \"H\": [[1, 2, 1, 2], [2, 1, 1, 1], [3, 2, 1, 2], [2, 1, 1, 4]],\n",
    "    }\n",
    "\n",
    "resultados = {}\n",
    "\n",
    "for nombre, matriz in matrices.items():\n",
    "    inicio = time.time()\n",
    "    valores_propios, pasos = algoritmo_qr(matriz)\n",
    "    fin = time.time()\n",
    "    resultados[nombre] = {\n",
    "        \"valores_propios\": valores_propios,\n",
    "        \"tiempo\": fin - inicio,\n",
    "        \"pasos\": pasos\n",
    "    }\n",
    "\n",
    "for nombre, resultado in resultados.items():\n",
    "    print(f\"Matriz {nombre}:\")\n",
    "    print(f\"  Valores propios: {resultado['valores_propios']}\")\n",
    "    print(f\"  Tiempo de ejecución: {resultado['tiempo']:.6f} segundos\")\n",
    "    print(f\"  Iteraciones realizadas: {resultado['pasos']}\")\n",
    "    print()"
   ]
  }
 ],
 "metadata": {
  "kernelspec": {
   "display_name": "Python 3",
   "language": "python",
   "name": "python3"
  },
  "language_info": {
   "codemirror_mode": {
    "name": "ipython",
    "version": 3
   },
   "file_extension": ".py",
   "mimetype": "text/x-python",
   "name": "python",
   "nbconvert_exporter": "python",
   "pygments_lexer": "ipython3",
   "version": "3.11.4"
  }
 },
 "nbformat": 4,
 "nbformat_minor": 2
}
